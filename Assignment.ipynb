{
 "cells": [
  {
   "cell_type": "markdown",
   "id": "21444ca0",
   "metadata": {},
   "source": [
    "## Q1. Example for different types of method."
   ]
  },
  {
   "cell_type": "code",
   "execution_count": 23,
   "id": "5816ade6",
   "metadata": {},
   "outputs": [
    {
     "name": "stdout",
     "output_type": "stream",
     "text": [
      "This is an instance method.\n",
      "This is a class method.\n",
      "This is a static method.\n"
     ]
    }
   ],
   "source": [
    "class example:\n",
    "    def instance_method(self):\n",
    "        return \"This is an instance method.\"\n",
    "\n",
    "    @classmethod\n",
    "    def class_method(cls):\n",
    "        return \"This is a class method.\"\n",
    "\n",
    "    @staticmethod\n",
    "    def static_method():\n",
    "        return \"This is a static method.\"\n",
    "\n",
    "ex = example()\n",
    "print(ex.instance_method())\n",
    "print(ex.class_method())\n",
    "print(ex.static_method())"
   ]
  },
  {
   "cell_type": "markdown",
   "id": "3652052e",
   "metadata": {},
   "source": [
    "## Q2. Inheritance with constructor"
   ]
  },
  {
   "cell_type": "code",
   "execution_count": 24,
   "id": "db551fb6",
   "metadata": {},
   "outputs": [
    {
     "name": "stdout",
     "output_type": "stream",
     "text": [
      "Hello from Father\n",
      "Hello from Child\n",
      "Father class method\n"
     ]
    }
   ],
   "source": [
    "class Father:\n",
    "    def __init__(self):\n",
    "        print(\"Hello from Father\")\n",
    "    \n",
    "    def method(self):\n",
    "        print(\"Father class method\")\n",
    "    \n",
    "class Child(Father):\n",
    "    def __init__(self):\n",
    "        super().__init__()\n",
    "        print(\"Hello from Child\")\n",
    "\n",
    "child = Child()\n",
    "child.method()\n",
    "# The constructor of father class is activated only when super().__init__() is called\n",
    "# The super() keyword is used to call a method from the parent class in the child class."
   ]
  },
  {
   "cell_type": "code",
   "execution_count": 25,
   "id": "7b84e011",
   "metadata": {},
   "outputs": [
    {
     "name": "stdout",
     "output_type": "stream",
     "text": [
      "Hello from Child\n",
      "Father class method\n"
     ]
    }
   ],
   "source": [
    "class Father:\n",
    "    def method(self):\n",
    "        print(\"Father class method\")\n",
    "        \n",
    "    def __init__(self):\n",
    "        print(\"Hello from Father\")\n",
    "    \n",
    "class Child(Father):\n",
    "    def __init__(self):\n",
    "        print(\"Hello from Child\")\n",
    "\n",
    "child = Child()\n",
    "child.method()\n",
    "# without super() keyoword the father class constructor isn't called but still the methods are accessible"
   ]
  },
  {
   "cell_type": "code",
   "execution_count": null,
   "id": "c794a860",
   "metadata": {},
   "outputs": [],
   "source": []
  }
 ],
 "metadata": {
  "kernelspec": {
   "display_name": "Python 3 (ipykernel)",
   "language": "python",
   "name": "python3"
  },
  "language_info": {
   "codemirror_mode": {
    "name": "ipython",
    "version": 3
   },
   "file_extension": ".py",
   "mimetype": "text/x-python",
   "name": "python",
   "nbconvert_exporter": "python",
   "pygments_lexer": "ipython3",
   "version": "3.9.13"
  }
 },
 "nbformat": 4,
 "nbformat_minor": 5
}
